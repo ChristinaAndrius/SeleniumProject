{
  "nbformat": 4,
  "nbformat_minor": 0,
  "metadata": {
    "colab": {
      "provenance": [],
      "collapsed_sections": [],
      "authorship_tag": "ABX9TyNCiLPUD1g2r707sy6C0ztH",
      "include_colab_link": true
    },
    "kernelspec": {
      "name": "python3",
      "display_name": "Python 3"
    },
    "language_info": {
      "name": "python"
    }
  },
  "cells": [
    {
      "cell_type": "markdown",
      "metadata": {
        "id": "view-in-github",
        "colab_type": "text"
      },
      "source": [
        "<a href=\"https://colab.research.google.com/github/ChristinaAndrius/SeleniumProject/blob/Pandas/Untitled15.ipynb\" target=\"_parent\"><img src=\"https://colab.research.google.com/assets/colab-badge.svg\" alt=\"Open In Colab\"/></a>"
      ]
    },
    {
      "cell_type": "code",
      "execution_count": null,
      "metadata": {
        "colab": {
          "base_uri": "https://localhost:8080/"
        },
        "id": "33I0emBBTHx5",
        "outputId": "bff68714-20b7-4633-a848-c5389ed6e394"
      },
      "outputs": [
        {
          "output_type": "execute_result",
          "data": {
            "text/plain": [
              "array([ 1,  2,  3,  4,  5,  6,  7,  8,  9, 10])"
            ]
          },
          "metadata": {},
          "execution_count": 2
        }
      ],
      "source": [
        "import numpy as np\n",
        "\n",
        "#Sukurkite vektorių su skaičiais nuo 1 iki 10\n",
        "\n",
        "np.arange(1,11)\n",
        "\n",
        "\n",
        " "
      ]
    },
    {
      "cell_type": "code",
      "source": [
        "#vektorius is 10 nuliu\n",
        "\n",
        "np.zeros(10)"
      ],
      "metadata": {
        "colab": {
          "base_uri": "https://localhost:8080/"
        },
        "id": "O11w5Z1dTvvX",
        "outputId": "422521ea-fc13-41e8-b909-abbbc529f125"
      },
      "execution_count": null,
      "outputs": [
        {
          "output_type": "execute_result",
          "data": {
            "text/plain": [
              "array([0., 0., 0., 0., 0., 0., 0., 0., 0., 0.])"
            ]
          },
          "metadata": {},
          "execution_count": 3
        }
      ]
    },
    {
      "cell_type": "code",
      "source": [
        " #vektorius is 10 vienetu\n",
        "\n",
        " np.ones(10)"
      ],
      "metadata": {
        "colab": {
          "base_uri": "https://localhost:8080/"
        },
        "id": "mM_c-x6NUApE",
        "outputId": "d5a77a4d-deab-410b-f6d0-b0357de33e9d"
      },
      "execution_count": null,
      "outputs": [
        {
          "output_type": "execute_result",
          "data": {
            "text/plain": [
              "array([1., 1., 1., 1., 1., 1., 1., 1., 1., 1.])"
            ]
          },
          "metadata": {},
          "execution_count": 4
        }
      ]
    },
    {
      "cell_type": "code",
      "source": [
        "#vektorius is 10 ketvertu\n",
        "np.ones(10)*4"
      ],
      "metadata": {
        "colab": {
          "base_uri": "https://localhost:8080/"
        },
        "id": "gH3j7SHPUJWG",
        "outputId": "77c1f054-1541-43fd-8c2d-e896f0c8bc2f"
      },
      "execution_count": null,
      "outputs": [
        {
          "output_type": "execute_result",
          "data": {
            "text/plain": [
              "array([4., 4., 4., 4., 4., 4., 4., 4., 4., 4.])"
            ]
          },
          "metadata": {},
          "execution_count": 5
        }
      ]
    },
    {
      "cell_type": "code",
      "source": [
        "#vektorius is lyginiu skaiciu nuo nuliu iki 10\n",
        "\n",
        "np.arange(0,101,2)"
      ],
      "metadata": {
        "colab": {
          "base_uri": "https://localhost:8080/"
        },
        "id": "Cjbssex1UV4j",
        "outputId": "70152a49-1d88-4243-967d-5daf0803c76e"
      },
      "execution_count": null,
      "outputs": [
        {
          "output_type": "execute_result",
          "data": {
            "text/plain": [
              "array([  0,   2,   4,   6,   8,  10,  12,  14,  16,  18,  20,  22,  24,\n",
              "        26,  28,  30,  32,  34,  36,  38,  40,  42,  44,  46,  48,  50,\n",
              "        52,  54,  56,  58,  60,  62,  64,  66,  68,  70,  72,  74,  76,\n",
              "        78,  80,  82,  84,  86,  88,  90,  92,  94,  96,  98, 100])"
            ]
          },
          "metadata": {},
          "execution_count": 7
        }
      ]
    },
    {
      "cell_type": "code",
      "source": [
        "#matrica is 25 nariu nuo 1 iki 26, priskirta kintamajam\n",
        "arr=np.arange(1,26).reshape(5,5)\n",
        "print(arr)"
      ],
      "metadata": {
        "colab": {
          "base_uri": "https://localhost:8080/"
        },
        "id": "DzJOikJDUsXA",
        "outputId": "13f18ed8-8589-415f-a02c-ba6f1ff53e13"
      },
      "execution_count": null,
      "outputs": [
        {
          "output_type": "stream",
          "name": "stdout",
          "text": [
            "[[ 1  2  3  4  5]\n",
            " [ 6  7  8  9 10]\n",
            " [11 12 13 14 15]\n",
            " [16 17 18 19 20]\n",
            " [21 22 23 24 25]]\n"
          ]
        }
      ]
    },
    {
      "cell_type": "code",
      "source": [
        "#is matricos istraukti skaiciui 12 ir paskutine eilute row, column index!\n",
        "arr[2,1]"
      ],
      "metadata": {
        "colab": {
          "base_uri": "https://localhost:8080/"
        },
        "id": "B_Q8pvWtVKN3",
        "outputId": "69df6d07-c688-4a37-8aea-18236acd7939"
      },
      "execution_count": null,
      "outputs": [
        {
          "output_type": "execute_result",
          "data": {
            "text/plain": [
              "12"
            ]
          },
          "metadata": {},
          "execution_count": 10
        }
      ]
    },
    {
      "cell_type": "code",
      "source": [
        "#last row from matrix\n",
        "arr[-1]"
      ],
      "metadata": {
        "colab": {
          "base_uri": "https://localhost:8080/"
        },
        "id": "cEjrpVUnVdCI",
        "outputId": "63845461-1d8f-4e3b-9629-1f8c90310cb3"
      },
      "execution_count": null,
      "outputs": [
        {
          "output_type": "execute_result",
          "data": {
            "text/plain": [
              "array([21, 22, 23, 24, 25])"
            ]
          },
          "metadata": {},
          "execution_count": 11
        }
      ]
    },
    {
      "cell_type": "code",
      "source": [
        "#submatrix from created matrix\n",
        "arr[:3,:3]"
      ],
      "metadata": {
        "colab": {
          "base_uri": "https://localhost:8080/"
        },
        "id": "VEEXpns0VkJz",
        "outputId": "01fe2710-ccfa-4d46-9107-2fcb8fac1eb8"
      },
      "execution_count": null,
      "outputs": [
        {
          "output_type": "execute_result",
          "data": {
            "text/plain": [
              "array([[ 1,  2,  3],\n",
              "       [ 6,  7,  8],\n",
              "       [11, 12, 13]])"
            ]
          },
          "metadata": {},
          "execution_count": 12
        }
      ]
    },
    {
      "cell_type": "code",
      "source": [
        "arr[1:4,1:]"
      ],
      "metadata": {
        "colab": {
          "base_uri": "https://localhost:8080/"
        },
        "id": "xhnXtNaSV8GU",
        "outputId": "0983984e-b5e2-4a34-8656-4c7fc1bc3619"
      },
      "execution_count": null,
      "outputs": [
        {
          "output_type": "execute_result",
          "data": {
            "text/plain": [
              "array([[ 7,  8,  9, 10],\n",
              "       [12, 13, 14, 15],\n",
              "       [17, 18, 19, 20]])"
            ]
          },
          "metadata": {},
          "execution_count": 13
        }
      ]
    },
    {
      "cell_type": "code",
      "source": [
        "#array from 20 random variables\n",
        "randarr=np.random.rand(20)"
      ],
      "metadata": {
        "id": "rjKzujniWIi9"
      },
      "execution_count": null,
      "outputs": []
    },
    {
      "cell_type": "code",
      "source": [
        "#maximum and minimum values and their index numbers\n",
        "max(randarr)\n",
        "randarr.argmax()\n",
        "randarr.min()\n",
        "randarr.argmin()\n"
      ],
      "metadata": {
        "colab": {
          "base_uri": "https://localhost:8080/"
        },
        "id": "iOa1bExFWcMu",
        "outputId": "438bd338-c2d0-4485-f379-fa1d3343ddbe"
      },
      "execution_count": null,
      "outputs": [
        {
          "output_type": "execute_result",
          "data": {
            "text/plain": [
              "2"
            ]
          },
          "metadata": {},
          "execution_count": 17
        }
      ]
    },
    {
      "cell_type": "code",
      "source": [
        "#data type\n",
        "randarr.dtype"
      ],
      "metadata": {
        "colab": {
          "base_uri": "https://localhost:8080/"
        },
        "id": "RiqUOdEHW6PB",
        "outputId": "ed449976-3f50-4907-d501-7e994da91bb6"
      },
      "execution_count": null,
      "outputs": [
        {
          "output_type": "execute_result",
          "data": {
            "text/plain": [
              "dtype('float64')"
            ]
          },
          "metadata": {},
          "execution_count": 20
        }
      ]
    },
    {
      "cell_type": "code",
      "source": [
        "#integer array,  select higher than 90 to the list\n",
        "l=np.arange(1, 101)\n",
        "l=l[l>90]"
      ],
      "metadata": {
        "id": "O4IU4VtZXgOY"
      },
      "execution_count": null,
      "outputs": []
    },
    {
      "cell_type": "code",
      "source": [
        "#divides by 7 without liekana\n",
        "l=l[l%7==0]"
      ],
      "metadata": {
        "id": "L-USOqj2YOPN"
      },
      "execution_count": null,
      "outputs": []
    },
    {
      "cell_type": "code",
      "source": [
        "#matrica\n",
        "np.linspace(0.025,1,40).reshape(5,8)"
      ],
      "metadata": {
        "colab": {
          "base_uri": "https://localhost:8080/"
        },
        "id": "HN21ppAKYhSn",
        "outputId": "3c033d4c-a16a-402e-a86c-884e2f5123ee"
      },
      "execution_count": null,
      "outputs": [
        {
          "output_type": "execute_result",
          "data": {
            "text/plain": [
              "array([[0.025, 0.05 , 0.075, 0.1  , 0.125, 0.15 , 0.175, 0.2  ],\n",
              "       [0.225, 0.25 , 0.275, 0.3  , 0.325, 0.35 , 0.375, 0.4  ],\n",
              "       [0.425, 0.45 , 0.475, 0.5  , 0.525, 0.55 , 0.575, 0.6  ],\n",
              "       [0.625, 0.65 , 0.675, 0.7  , 0.725, 0.75 , 0.775, 0.8  ],\n",
              "       [0.825, 0.85 , 0.875, 0.9  , 0.925, 0.95 , 0.975, 1.   ]])"
            ]
          },
          "metadata": {},
          "execution_count": 24
        }
      ]
    },
    {
      "cell_type": "code",
      "source": [
        "#matrica nup 1 iki 100, traukiasi sveika saknis\n",
        "matrica=np.arange(2, 1000)\n",
        "res=matrica[(matrica**5)%1==0]\n"
      ],
      "metadata": {
        "id": "Lq6Zab9vZAo_"
      },
      "execution_count": null,
      "outputs": []
    },
    {
      "cell_type": "code",
      "source": [
        "res.shape"
      ],
      "metadata": {
        "colab": {
          "base_uri": "https://localhost:8080/"
        },
        "id": "GdaV_yxUXKpk",
        "outputId": "31a75e2e-f3a0-432e-9788-a93c693b30aa"
      },
      "execution_count": null,
      "outputs": [
        {
          "output_type": "execute_result",
          "data": {
            "text/plain": [
              "(998,)"
            ]
          },
          "metadata": {},
          "execution_count": 28
        }
      ]
    },
    {
      "cell_type": "code",
      "source": [
        "#Parašykite NumPy programą, kad sukurtumėte 3x3 tapatybės matricą, t. y. įstrižainės yra 1, o likusieji yra 0.\n",
        "\n",
        "d=np.identity(3)\n",
        "print(d)"
      ],
      "metadata": {
        "colab": {
          "base_uri": "https://localhost:8080/"
        },
        "id": "h-DYXqdSOUJl",
        "outputId": "2f8437fa-80a8-43bf-af7a-ae0f2313d2b9"
      },
      "execution_count": null,
      "outputs": [
        {
          "output_type": "stream",
          "name": "stdout",
          "text": [
            "[[1. 0. 0.]\n",
            " [0. 1. 0.]\n",
            " [0. 0. 1.]]\n"
          ]
        }
      ]
    },
    {
      "cell_type": "code",
      "source": [
        "#Parašykite NumPy programą, kad sukurtumėte naują nurodytos formos (5,6) ir tipo masyvą, užpildytą nuliais.\n",
        "\n",
        "s = (5,6)\n",
        "b=np.zeros(s)\n",
        "print(b)\n"
      ],
      "metadata": {
        "colab": {
          "base_uri": "https://localhost:8080/"
        },
        "id": "V21_Z80-RPCb",
        "outputId": "b4f2cd9d-9151-4a0c-8a37-7a1c63a90820"
      },
      "execution_count": null,
      "outputs": [
        {
          "output_type": "stream",
          "name": "stdout",
          "text": [
            "[[0. 0. 0. 0. 0. 0.]\n",
            " [0. 0. 0. 0. 0. 0.]\n",
            " [0. 0. 0. 0. 0. 0.]\n",
            " [0. 0. 0. 0. 0. 0.]\n",
            " [0. 0. 0. 0. 0. 0.]]\n"
          ]
        }
      ]
    },
    {
      "cell_type": "code",
      "source": [
        "#Write a NumPy program to create a 4x4 array, now create a new array from the said array swapping first and last, second and third columns.\n",
        "\n",
        "c=np.arange(10, 26).reshape(4,4)\n",
        "\n",
        "print(c)"
      ],
      "metadata": {
        "colab": {
          "base_uri": "https://localhost:8080/"
        },
        "id": "3vproKY6Sjdx",
        "outputId": "6a561b35-b4b6-4d74-caa9-f6692fe13231"
      },
      "execution_count": null,
      "outputs": [
        {
          "output_type": "stream",
          "name": "stdout",
          "text": [
            "[[10 11 12 13]\n",
            " [14 15 16 17]\n",
            " [18 19 20 21]\n",
            " [22 23 24 25]]\n"
          ]
        }
      ]
    },
    {
      "cell_type": "code",
      "source": [
        "from typing_extensions import Concatenate\n",
        "#W swapping first and last, second and third columns.\n",
        "d=c[:, [3,0]]\n",
        "\n",
        "e=c[:,[2,1]]\n",
        "\n",
        "new_array=np.concatenate((d,e),axis=1)\n",
        "print(new_array)"
      ],
      "metadata": {
        "colab": {
          "base_uri": "https://localhost:8080/"
        },
        "id": "SOGda06gbWZE",
        "outputId": "6bf93326-b2df-45ed-c827-591524a827eb"
      },
      "execution_count": null,
      "outputs": [
        {
          "output_type": "stream",
          "name": "stdout",
          "text": [
            "[[13 10 12 11]\n",
            " [17 14 16 15]\n",
            " [21 18 20 19]\n",
            " [25 22 24 23]]\n"
          ]
        }
      ]
    },
    {
      "cell_type": "code",
      "source": [
        "#Parašykite NumPy programą, kad konvertuotumėte Celsijaus laipsnių reikšmes į Farenheito laipsnius ir atvirkščiai. Reikšmės saugomos NumPy masyve.\n",
        "celsius_list = [-17.78, -11.11, 7.34, 1.11 ,37.73, 0. ]\n",
        "C = np.array(celsius_list)\n",
        "print(\"Values in Celsius:\")\n",
        "print(C)\n",
        "print(\"Values in  Fahrenheit:\")\n",
        "print(np.round((9*C/5 + 32),2))"
      ],
      "metadata": {
        "colab": {
          "base_uri": "https://localhost:8080/"
        },
        "id": "da-jprNObelN",
        "outputId": "48dde0a1-63c8-47c5-b5f6-881ffe06e522"
      },
      "execution_count": null,
      "outputs": [
        {
          "output_type": "stream",
          "name": "stdout",
          "text": [
            "Values in Celsius:\n",
            "[-17.78 -11.11   7.34   1.11  37.73   0.  ]\n",
            "Values in  Fahrenheit:\n",
            "[-0.   12.   45.21 34.   99.91 32.  ]\n"
          ]
        }
      ]
    },
    {
      "cell_type": "code",
      "source": [
        "# from Fahrenheit to Celsius\n",
        "\n",
        "fahrenheit_list = [ 0, 12, 45.21, 34, 99.91, 32 ]\n",
        "F = np.array(fahrenheit_list)\n",
        "print(\"Values in Fahrenheit:\")\n",
        "print(F)\n",
        "print(\"Values in  Celsius:\")\n",
        "print(np.round((5*F/9 - 5*32/9),2))"
      ],
      "metadata": {
        "colab": {
          "base_uri": "https://localhost:8080/"
        },
        "id": "Ma38LGusbgw_",
        "outputId": "86db4fe8-a4fe-4d8b-a2d4-371c1def30db"
      },
      "execution_count": null,
      "outputs": [
        {
          "output_type": "stream",
          "name": "stdout",
          "text": [
            "Values in Fahrenheit:\n",
            "[ 0.   12.   45.21 34.   99.91 32.  ]\n",
            "Values in  Celsius:\n",
            "[-17.78 -11.11   7.34   1.11  37.73   0.  ]\n"
          ]
        }
      ]
    },
    {
      "cell_type": "code",
      "source": [
        "#Parašykite NumPy programą, kad būtų rodomos visos 2017 m. kovo mėnesio datos.\n",
        "\n",
        "np.arange('2017-03-01', '2017-04-01',  dtype='datetime64[D]')"
      ],
      "metadata": {
        "colab": {
          "base_uri": "https://localhost:8080/"
        },
        "id": "nqE8rKBpbpxs",
        "outputId": "49b5ac28-8d19-4b31-a2f5-7ee032a8de30"
      },
      "execution_count": null,
      "outputs": [
        {
          "output_type": "execute_result",
          "data": {
            "text/plain": [
              "array(['2017-03-01', '2017-03-02', '2017-03-03', '2017-03-04',\n",
              "       '2017-03-05', '2017-03-06', '2017-03-07', '2017-03-08',\n",
              "       '2017-03-09', '2017-03-10', '2017-03-11', '2017-03-12',\n",
              "       '2017-03-13', '2017-03-14', '2017-03-15', '2017-03-16',\n",
              "       '2017-03-17', '2017-03-18', '2017-03-19', '2017-03-20',\n",
              "       '2017-03-21', '2017-03-22', '2017-03-23', '2017-03-24',\n",
              "       '2017-03-25', '2017-03-26', '2017-03-27', '2017-03-28',\n",
              "       '2017-03-29', '2017-03-30', '2017-03-31'], dtype='datetime64[D]')"
            ]
          },
          "metadata": {},
          "execution_count": 29
        }
      ]
    },
    {
      "cell_type": "code",
      "source": [],
      "metadata": {
        "id": "NXqPg41jbrWZ"
      },
      "execution_count": null,
      "outputs": []
    }
  ]
}