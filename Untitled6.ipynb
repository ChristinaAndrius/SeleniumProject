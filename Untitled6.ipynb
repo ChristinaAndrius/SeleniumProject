{
  "nbformat": 4,
  "nbformat_minor": 0,
  "metadata": {
    "colab": {
      "provenance": [],
      "authorship_tag": "ABX9TyNAItYqa2j++Q5GS01vyJH6",
      "include_colab_link": true
    },
    "kernelspec": {
      "name": "python3",
      "display_name": "Python 3"
    },
    "language_info": {
      "name": "python"
    }
  },
  "cells": [
    {
      "cell_type": "markdown",
      "metadata": {
        "id": "view-in-github",
        "colab_type": "text"
      },
      "source": [
        "<a href=\"https://colab.research.google.com/github/ChristinaAndrius/SeleniumProject/blob/main/Untitled6.ipynb\" target=\"_parent\"><img src=\"https://colab.research.google.com/assets/colab-badge.svg\" alt=\"Open In Colab\"/></a>"
      ]
    },
    {
      "cell_type": "code",
      "execution_count": 2,
      "metadata": {
        "colab": {
          "base_uri": "https://localhost:8080/"
        },
        "id": "YcKho6Ig71Cf",
        "outputId": "86ef8375-b255-473e-ad45-cdfb7ebbc7b5"
      },
      "outputs": [
        {
          "output_type": "stream",
          "name": "stdout",
          "text": [
            "    Unnamed: 0                                         Track.Name  \\\n",
            "0            1                                           Señorita   \n",
            "1            2                                              China   \n",
            "2            3                      boyfriend (with Social House)   \n",
            "3            4                    Beautiful People (feat. Khalid)   \n",
            "4            5                        Goodbyes (Feat. Young Thug)   \n",
            "5            6                  I Don't Care (with Justin Bieber)   \n",
            "6            7                                             Ransom   \n",
            "7            8                                  How Do You Sleep?   \n",
            "8            9                              Old Town Road - Remix   \n",
            "9           10                                            bad guy   \n",
            "10          11                                           Callaita   \n",
            "11          12              Loco Contigo (feat. J. Balvin & Tyga)   \n",
            "12          13                                  Someone You Loved   \n",
            "13          14                                 Otro Trago - Remix   \n",
            "14          15           Money In The Grave (Drake ft. Rick Ross)   \n",
            "15          16                          No Guidance (feat. Drake)   \n",
            "16          17                                         LA CANCIÓN   \n",
            "17          18      Sunflower - Spider-Man: Into the Spider-Verse   \n",
            "18          19                                             Lalala   \n",
            "19          20                                        Truth Hurts   \n",
            "20          21                                Piece Of Your Heart   \n",
            "21          22                                             Panini   \n",
            "22          23                               No Me Conoce - Remix   \n",
            "23          24                                    Soltera - Remix   \n",
            "24          25                       bad guy (with Justin Bieber)   \n",
            "25          26                                If I Can't Have You   \n",
            "26          27                                       Dance Monkey   \n",
            "27          28                                           It's You   \n",
            "28          29                                          Con Calma   \n",
            "29          30                                      QUE PRETENDES   \n",
            "30          31                                           Takeaway   \n",
            "31          32                                            7 rings   \n",
            "32          33                                  0.958333333333333   \n",
            "33          34          The London (feat. J. Cole & Travis Scott)   \n",
            "34          35                                  Never Really Over   \n",
            "35          36  Summer Days (feat. Macklemore & Patrick Stump ...   \n",
            "36          37                                         Otro Trago   \n",
            "37          38                     Antisocial (with Travis Scott)   \n",
            "38          39                                             Sucker   \n",
            "39          40  fuck, i'm lonely (with Anne-Marie) - from 13 ...   \n",
            "40          41                                        Higher Love   \n",
            "41          42                              You Need To Calm Down   \n",
            "42          43                                            Shallow   \n",
            "43          44                                               Talk   \n",
            "44          45                                         Con Altura   \n",
            "45          46                                    One Thing Right   \n",
            "46          47                                          Te Robaré   \n",
            "47          48                                            Happier   \n",
            "48          49                                      Call You Mine   \n",
            "49          50      Cross Me (feat. Chance the Rapper & PnB Rock)   \n",
            "\n",
            "         Artist.Name             Genre  Beats.Per.Minute  Energy  \\\n",
            "0       Shawn Mendes      canadian pop               117      55   \n",
            "1           Anuel AA    reggaeton flow               105      81   \n",
            "2      Ariana Grande         dance pop               190      80   \n",
            "3         Ed Sheeran               pop                93      65   \n",
            "4        Post Malone           dfw rap               150      65   \n",
            "5         Ed Sheeran               pop               102      68   \n",
            "6          Lil Tecca        trap music               180      64   \n",
            "7          Sam Smith               pop               111      68   \n",
            "8          Lil Nas X       country rap               136      62   \n",
            "9      Billie Eilish        electropop               135      43   \n",
            "10         Bad Bunny         reggaeton               176      62   \n",
            "11          DJ Snake         dance pop                96      71   \n",
            "12     Lewis Capaldi               pop               110      41   \n",
            "13              Sech    panamanian pop               176      79   \n",
            "14             Drake  canadian hip hop               101      50   \n",
            "15       Chris Brown         dance pop                93      45   \n",
            "16          J Balvin             latin               176      65   \n",
            "17       Post Malone           dfw rap                90      48   \n",
            "18               Y2K  canadian hip hop               130      39   \n",
            "19             Lizzo       escape room               158      62   \n",
            "20            MEDUZA         pop house               124      74   \n",
            "21         Lil Nas X       country rap               154      59   \n",
            "22       Jhay Cortez    reggaeton flow                92      79   \n",
            "23             Lunay             latin                92      78   \n",
            "24     Billie Eilish        electropop               135      45   \n",
            "25      Shawn Mendes      canadian pop               124      82   \n",
            "26       Tones and I    australian pop                98      59   \n",
            "27         Ali Gatie  canadian hip hop                96      46   \n",
            "28      Daddy Yankee             latin                94      86   \n",
            "29          J Balvin             latin                93      79   \n",
            "30  The Chainsmokers               edm                85      51   \n",
            "31     Ariana Grande         dance pop               140      32   \n",
            "32            Maluma         reggaeton                96      71   \n",
            "33        Young Thug       atl hip hop                98      59   \n",
            "34        Katy Perry         dance pop               100      88   \n",
            "35     Martin Garrix          big room               114      72   \n",
            "36              Sech    panamanian pop               176      70   \n",
            "37        Ed Sheeran               pop               152      82   \n",
            "38    Jonas Brothers          boy band               138      73   \n",
            "39              Lauv         dance pop                95      56   \n",
            "40              Kygo               edm               104      68   \n",
            "41      Taylor Swift         dance pop                85      68   \n",
            "42         Lady Gaga         dance pop                96      39   \n",
            "43            Khalid               pop               136      40   \n",
            "44           ROSALÍA    r&b en espanol                98      69   \n",
            "45        Marshmello           brostep                88      62   \n",
            "46         Nicky Jam             latin               176      75   \n",
            "47        Marshmello           brostep               100      79   \n",
            "48  The Chainsmokers               edm               104      70   \n",
            "49        Ed Sheeran               pop                95      79   \n",
            "\n",
            "    Danceability  Loudness..dB..  Liveness  Valence.  Length.  Acousticness..  \\\n",
            "0             76              -6         8        75      191               4   \n",
            "1             79              -4         8        61      302               8   \n",
            "2             40              -4        16        70      186              12   \n",
            "3             64              -8         8        55      198              12   \n",
            "4             58              -4        11        18      175              45   \n",
            "5             80              -5         9        84      220               9   \n",
            "6             75              -6         7        23      131               2   \n",
            "7             48              -5         8        35      202              15   \n",
            "8             88              -6        11        64      157               5   \n",
            "9             70             -11        10        56      194              33   \n",
            "10            61              -5        24        24      251              60   \n",
            "11            82              -4        15        38      185              28   \n",
            "12            50              -6        11        45      182              75   \n",
            "13            73              -2         6        76      288               7   \n",
            "14            83              -4        12        10      205              10   \n",
            "15            70              -7        16        14      261              12   \n",
            "16            75              -6        11        43      243              15   \n",
            "17            76              -6         7        91      158              56   \n",
            "18            84              -8        14        50      161              18   \n",
            "19            72              -3        12        41      173              11   \n",
            "20            68              -7         7        63      153               4   \n",
            "21            70              -6        12        48      115              34   \n",
            "22            81              -4         9        58      309              14   \n",
            "23            80              -4        44        80      266              36   \n",
            "24            67             -11        12        68      195              25   \n",
            "25            69              -4        13        87      191              49   \n",
            "26            82              -6        18        54      210              69   \n",
            "27            73              -7        19        40      213              37   \n",
            "28            74              -3         6        66      193              11   \n",
            "29            64              -4        36        94      222               3   \n",
            "30            29              -8        10        36      210              12   \n",
            "31            78             -11         9        33      179              59   \n",
            "32            78              -5         9        68      176              22   \n",
            "33            80              -7        13        18      200               2   \n",
            "34            77              -5        32        39      224              19   \n",
            "35            66              -7        14        32      164              18   \n",
            "36            75              -5        11        62      226              14   \n",
            "37            72              -5        36        91      162              13   \n",
            "38            84              -5        11        95      181               4   \n",
            "39            81              -6         6        68      199              48   \n",
            "40            69              -7        10        40      228               2   \n",
            "41            77              -6         7        73      171               1   \n",
            "42            57              -6        23        32      216              37   \n",
            "43            90              -9         6        35      198               5   \n",
            "44            88              -4         5        75      162              39   \n",
            "45            66              -2        58        44      182               7   \n",
            "46            67              -4         8        80      202              24   \n",
            "47            69              -3        17        67      214              19   \n",
            "48            59              -6        41        50      218              23   \n",
            "49            75              -6         7        61      206              21   \n",
            "\n",
            "    Speechiness.  Popularity  \n",
            "0              3          79  \n",
            "1              9          92  \n",
            "2             46          85  \n",
            "3             19          86  \n",
            "4              7          94  \n",
            "5              4          84  \n",
            "6             29          92  \n",
            "7              9          90  \n",
            "8             10          87  \n",
            "9             38          95  \n",
            "10            31          93  \n",
            "11             7          86  \n",
            "12             3          88  \n",
            "13            20          87  \n",
            "14             5          92  \n",
            "15            15          82  \n",
            "16            32          90  \n",
            "17             5          91  \n",
            "18             8          88  \n",
            "19            11          91  \n",
            "20             3          91  \n",
            "21             8          91  \n",
            "22             7          83  \n",
            "23             4          91  \n",
            "24            30          89  \n",
            "25             6          70  \n",
            "26            10          83  \n",
            "27             3          89  \n",
            "28             6          91  \n",
            "29            25          89  \n",
            "30             4          84  \n",
            "31            33          89  \n",
            "32            28          89  \n",
            "33            15          89  \n",
            "34             6          89  \n",
            "35             6          89  \n",
            "36            34          91  \n",
            "37             5          87  \n",
            "38             6          80  \n",
            "39             7          78  \n",
            "40             3          88  \n",
            "41             5          90  \n",
            "42             3          87  \n",
            "43            13          84  \n",
            "44            12          88  \n",
            "45             5          88  \n",
            "46             6          88  \n",
            "47             5          88  \n",
            "48             3          88  \n",
            "49            12          82  \n"
          ]
        }
      ],
      "source": [
        "import pandas as pd\n",
        "top = pd.read_csv(r\"https://raw.githubusercontent.com/nikipaj1/teaching/main/pamoka_7/top50.csv\", encoding=\"ISO-8859-1\")\n",
        "print (top)"
      ]
    },
    {
      "cell_type": "code",
      "source": [
        "top.head()"
      ],
      "metadata": {
        "id": "JkWZ1pbI8qBs"
      },
      "execution_count": null,
      "outputs": []
    },
    {
      "cell_type": "code",
      "source": [
        "top['Genre'].unique()\n"
      ],
      "metadata": {
        "colab": {
          "base_uri": "https://localhost:8080/"
        },
        "id": "HSfDUFU48uI_",
        "outputId": "390a621c-b910-4c6f-d572-99f4d5feeda7"
      },
      "execution_count": 3,
      "outputs": [
        {
          "output_type": "execute_result",
          "data": {
            "text/plain": [
              "array(['canadian pop', 'reggaeton flow', 'dance pop', 'pop', 'dfw rap',\n",
              "       'trap music', 'country rap', 'electropop', 'reggaeton',\n",
              "       'panamanian pop', 'canadian hip hop', 'latin', 'escape room',\n",
              "       'pop house', 'australian pop', 'edm', 'atl hip hop', 'big room',\n",
              "       'boy band', 'r&b en espanol', 'brostep'], dtype=object)"
            ]
          },
          "metadata": {},
          "execution_count": 3
        }
      ]
    },
    {
      "cell_type": "code",
      "source": [
        "len(top['Genre].unique())"
      ],
      "metadata": {
        "colab": {
          "base_uri": "https://localhost:8080/",
          "height": 131
        },
        "id": "cS72ziHw82ZU",
        "outputId": "ebfc875a-d048-4dfb-ab0b-f7d6853826b4"
      },
      "execution_count": 4,
      "outputs": [
        {
          "output_type": "error",
          "ename": "SyntaxError",
          "evalue": "ignored",
          "traceback": [
            "\u001b[0;36m  File \u001b[0;32m\"<ipython-input-4-1d36934993bc>\"\u001b[0;36m, line \u001b[0;32m1\u001b[0m\n\u001b[0;31m    len(top['Genre].unique())\u001b[0m\n\u001b[0m                             ^\u001b[0m\n\u001b[0;31mSyntaxError\u001b[0m\u001b[0;31m:\u001b[0m EOL while scanning string literal\n"
          ]
        }
      ]
    },
    {
      "cell_type": "code",
      "source": [
        "top['Genre'].nunique()"
      ],
      "metadata": {
        "colab": {
          "base_uri": "https://localhost:8080/"
        },
        "id": "XNULjWZU9MMb",
        "outputId": "db053622-8c67-4c9b-8c37-23d0e1fea524"
      },
      "execution_count": 7,
      "outputs": [
        {
          "output_type": "execute_result",
          "data": {
            "text/plain": [
              "21"
            ]
          },
          "metadata": {},
          "execution_count": 7
        }
      ]
    },
    {
      "cell_type": "code",
      "source": [
        "top['Genre']"
      ],
      "metadata": {
        "colab": {
          "base_uri": "https://localhost:8080/"
        },
        "id": "XQvLsKFF9aqb",
        "outputId": "fb54fd74-7bb6-44a5-82e6-264fb414f0f0"
      },
      "execution_count": 9,
      "outputs": [
        {
          "output_type": "execute_result",
          "data": {
            "text/plain": [
              "0         canadian pop\n",
              "1       reggaeton flow\n",
              "2            dance pop\n",
              "3                  pop\n",
              "4              dfw rap\n",
              "5                  pop\n",
              "6           trap music\n",
              "7                  pop\n",
              "8          country rap\n",
              "9           electropop\n",
              "10           reggaeton\n",
              "11           dance pop\n",
              "12                 pop\n",
              "13      panamanian pop\n",
              "14    canadian hip hop\n",
              "15           dance pop\n",
              "16               latin\n",
              "17             dfw rap\n",
              "18    canadian hip hop\n",
              "19         escape room\n",
              "20           pop house\n",
              "21         country rap\n",
              "22      reggaeton flow\n",
              "23               latin\n",
              "24          electropop\n",
              "25        canadian pop\n",
              "26      australian pop\n",
              "27    canadian hip hop\n",
              "28               latin\n",
              "29               latin\n",
              "30                 edm\n",
              "31           dance pop\n",
              "32           reggaeton\n",
              "33         atl hip hop\n",
              "34           dance pop\n",
              "35            big room\n",
              "36      panamanian pop\n",
              "37                 pop\n",
              "38            boy band\n",
              "39           dance pop\n",
              "40                 edm\n",
              "41           dance pop\n",
              "42           dance pop\n",
              "43                 pop\n",
              "44      r&b en espanol\n",
              "45             brostep\n",
              "46               latin\n",
              "47             brostep\n",
              "48                 edm\n",
              "49                 pop\n",
              "Name: Genre, dtype: object"
            ]
          },
          "metadata": {},
          "execution_count": 9
        }
      ]
    },
    {
      "cell_type": "code",
      "source": [],
      "metadata": {
        "id": "zqcgHNq8AhSp"
      },
      "execution_count": null,
      "outputs": []
    },
    {
      "cell_type": "code",
      "source": [
        "top[['Track.Name','Length.Pretty']].head()"
      ],
      "metadata": {
        "colab": {
          "base_uri": "https://localhost:8080/",
          "height": 311
        },
        "id": "i1Df3OlZ9RqT",
        "outputId": "2bf51594-c836-46d9-fbd3-fb7a88b850f3"
      },
      "execution_count": 8,
      "outputs": [
        {
          "output_type": "error",
          "ename": "KeyError",
          "evalue": "ignored",
          "traceback": [
            "\u001b[0;31m---------------------------------------------------------------------------\u001b[0m",
            "\u001b[0;31mKeyError\u001b[0m                                  Traceback (most recent call last)",
            "\u001b[0;32m<ipython-input-8-34bd55ab057a>\u001b[0m in \u001b[0;36m<module>\u001b[0;34m\u001b[0m\n\u001b[0;32m----> 1\u001b[0;31m \u001b[0mtop\u001b[0m\u001b[0;34m[\u001b[0m\u001b[0;34m[\u001b[0m\u001b[0;34m'Track.Name'\u001b[0m\u001b[0;34m,\u001b[0m\u001b[0;34m'Length.Pretty'\u001b[0m\u001b[0;34m]\u001b[0m\u001b[0;34m]\u001b[0m\u001b[0;34m.\u001b[0m\u001b[0mhead\u001b[0m\u001b[0;34m(\u001b[0m\u001b[0;34m)\u001b[0m\u001b[0;34m\u001b[0m\u001b[0;34m\u001b[0m\u001b[0m\n\u001b[0m",
            "\u001b[0;32m/usr/local/lib/python3.7/dist-packages/pandas/core/frame.py\u001b[0m in \u001b[0;36m__getitem__\u001b[0;34m(self, key)\u001b[0m\n\u001b[1;32m   3462\u001b[0m             \u001b[0;32mif\u001b[0m \u001b[0mis_iterator\u001b[0m\u001b[0;34m(\u001b[0m\u001b[0mkey\u001b[0m\u001b[0;34m)\u001b[0m\u001b[0;34m:\u001b[0m\u001b[0;34m\u001b[0m\u001b[0;34m\u001b[0m\u001b[0m\n\u001b[1;32m   3463\u001b[0m                 \u001b[0mkey\u001b[0m \u001b[0;34m=\u001b[0m \u001b[0mlist\u001b[0m\u001b[0;34m(\u001b[0m\u001b[0mkey\u001b[0m\u001b[0;34m)\u001b[0m\u001b[0;34m\u001b[0m\u001b[0;34m\u001b[0m\u001b[0m\n\u001b[0;32m-> 3464\u001b[0;31m             \u001b[0mindexer\u001b[0m \u001b[0;34m=\u001b[0m \u001b[0mself\u001b[0m\u001b[0;34m.\u001b[0m\u001b[0mloc\u001b[0m\u001b[0;34m.\u001b[0m\u001b[0m_get_listlike_indexer\u001b[0m\u001b[0;34m(\u001b[0m\u001b[0mkey\u001b[0m\u001b[0;34m,\u001b[0m \u001b[0maxis\u001b[0m\u001b[0;34m=\u001b[0m\u001b[0;36m1\u001b[0m\u001b[0;34m)\u001b[0m\u001b[0;34m[\u001b[0m\u001b[0;36m1\u001b[0m\u001b[0;34m]\u001b[0m\u001b[0;34m\u001b[0m\u001b[0;34m\u001b[0m\u001b[0m\n\u001b[0m\u001b[1;32m   3465\u001b[0m \u001b[0;34m\u001b[0m\u001b[0m\n\u001b[1;32m   3466\u001b[0m         \u001b[0;31m# take() does not accept boolean indexers\u001b[0m\u001b[0;34m\u001b[0m\u001b[0;34m\u001b[0m\u001b[0;34m\u001b[0m\u001b[0m\n",
            "\u001b[0;32m/usr/local/lib/python3.7/dist-packages/pandas/core/indexing.py\u001b[0m in \u001b[0;36m_get_listlike_indexer\u001b[0;34m(self, key, axis)\u001b[0m\n\u001b[1;32m   1312\u001b[0m             \u001b[0mkeyarr\u001b[0m\u001b[0;34m,\u001b[0m \u001b[0mindexer\u001b[0m\u001b[0;34m,\u001b[0m \u001b[0mnew_indexer\u001b[0m \u001b[0;34m=\u001b[0m \u001b[0max\u001b[0m\u001b[0;34m.\u001b[0m\u001b[0m_reindex_non_unique\u001b[0m\u001b[0;34m(\u001b[0m\u001b[0mkeyarr\u001b[0m\u001b[0;34m)\u001b[0m\u001b[0;34m\u001b[0m\u001b[0;34m\u001b[0m\u001b[0m\n\u001b[1;32m   1313\u001b[0m \u001b[0;34m\u001b[0m\u001b[0m\n\u001b[0;32m-> 1314\u001b[0;31m         \u001b[0mself\u001b[0m\u001b[0;34m.\u001b[0m\u001b[0m_validate_read_indexer\u001b[0m\u001b[0;34m(\u001b[0m\u001b[0mkeyarr\u001b[0m\u001b[0;34m,\u001b[0m \u001b[0mindexer\u001b[0m\u001b[0;34m,\u001b[0m \u001b[0maxis\u001b[0m\u001b[0;34m)\u001b[0m\u001b[0;34m\u001b[0m\u001b[0;34m\u001b[0m\u001b[0m\n\u001b[0m\u001b[1;32m   1315\u001b[0m \u001b[0;34m\u001b[0m\u001b[0m\n\u001b[1;32m   1316\u001b[0m         if needs_i8_conversion(ax.dtype) or isinstance(\n",
            "\u001b[0;32m/usr/local/lib/python3.7/dist-packages/pandas/core/indexing.py\u001b[0m in \u001b[0;36m_validate_read_indexer\u001b[0;34m(self, key, indexer, axis)\u001b[0m\n\u001b[1;32m   1375\u001b[0m \u001b[0;34m\u001b[0m\u001b[0m\n\u001b[1;32m   1376\u001b[0m             \u001b[0mnot_found\u001b[0m \u001b[0;34m=\u001b[0m \u001b[0mlist\u001b[0m\u001b[0;34m(\u001b[0m\u001b[0mensure_index\u001b[0m\u001b[0;34m(\u001b[0m\u001b[0mkey\u001b[0m\u001b[0;34m)\u001b[0m\u001b[0;34m[\u001b[0m\u001b[0mmissing_mask\u001b[0m\u001b[0;34m.\u001b[0m\u001b[0mnonzero\u001b[0m\u001b[0;34m(\u001b[0m\u001b[0;34m)\u001b[0m\u001b[0;34m[\u001b[0m\u001b[0;36m0\u001b[0m\u001b[0;34m]\u001b[0m\u001b[0;34m]\u001b[0m\u001b[0;34m.\u001b[0m\u001b[0munique\u001b[0m\u001b[0;34m(\u001b[0m\u001b[0;34m)\u001b[0m\u001b[0;34m)\u001b[0m\u001b[0;34m\u001b[0m\u001b[0;34m\u001b[0m\u001b[0m\n\u001b[0;32m-> 1377\u001b[0;31m             \u001b[0;32mraise\u001b[0m \u001b[0mKeyError\u001b[0m\u001b[0;34m(\u001b[0m\u001b[0;34mf\"{not_found} not in index\"\u001b[0m\u001b[0;34m)\u001b[0m\u001b[0;34m\u001b[0m\u001b[0;34m\u001b[0m\u001b[0m\n\u001b[0m\u001b[1;32m   1378\u001b[0m \u001b[0;34m\u001b[0m\u001b[0m\n\u001b[1;32m   1379\u001b[0m \u001b[0;34m\u001b[0m\u001b[0m\n",
            "\u001b[0;31mKeyError\u001b[0m: \"['Length.Pretty'] not in index\""
          ]
        }
      ]
    },
    {
      "cell_type": "code",
      "source": [
        "du_stulpeliai_sudeti=top['kintamasis']=top['Energy'] + top['Danceability']\n",
        "print (du_stulpeliai_sudeti)"
      ],
      "metadata": {
        "colab": {
          "base_uri": "https://localhost:8080/"
        },
        "id": "lMpAbgn1AifG",
        "outputId": "8dc6f6ac-d1d9-4e5b-b6bf-b96bf4c77933"
      },
      "execution_count": 11,
      "outputs": [
        {
          "output_type": "stream",
          "name": "stdout",
          "text": [
            "0     131\n",
            "1     160\n",
            "2     120\n",
            "3     129\n",
            "4     123\n",
            "5     148\n",
            "6     139\n",
            "7     116\n",
            "8     150\n",
            "9     113\n",
            "10    123\n",
            "11    153\n",
            "12     91\n",
            "13    152\n",
            "14    133\n",
            "15    115\n",
            "16    140\n",
            "17    124\n",
            "18    123\n",
            "19    134\n",
            "20    142\n",
            "21    129\n",
            "22    160\n",
            "23    158\n",
            "24    112\n",
            "25    151\n",
            "26    141\n",
            "27    119\n",
            "28    160\n",
            "29    143\n",
            "30     80\n",
            "31    110\n",
            "32    149\n",
            "33    139\n",
            "34    165\n",
            "35    138\n",
            "36    145\n",
            "37    154\n",
            "38    157\n",
            "39    137\n",
            "40    137\n",
            "41    145\n",
            "42     96\n",
            "43    130\n",
            "44    157\n",
            "45    128\n",
            "46    142\n",
            "47    148\n",
            "48    129\n",
            "49    154\n",
            "dtype: int64\n"
          ]
        }
      ]
    },
    {
      "cell_type": "code",
      "source": [
        "top['Energy'].apply(lambda x:)"
      ],
      "metadata": {
        "colab": {
          "base_uri": "https://localhost:8080/",
          "height": 131
        },
        "id": "phDFVdhSBmuX",
        "outputId": "ebeb290f-28f0-4a1d-dc57-466b877c84b4"
      },
      "execution_count": 12,
      "outputs": [
        {
          "output_type": "error",
          "ename": "SyntaxError",
          "evalue": "ignored",
          "traceback": [
            "\u001b[0;36m  File \u001b[0;32m\"<ipython-input-12-3d65ee70eb10>\"\u001b[0;36m, line \u001b[0;32m1\u001b[0m\n\u001b[0;31m    top['Energy'].apply(lambda x:)\u001b[0m\n\u001b[0m                                 ^\u001b[0m\n\u001b[0;31mSyntaxError\u001b[0m\u001b[0;31m:\u001b[0m invalid syntax\n"
          ]
        }
      ]
    },
    {
      "cell_type": "code",
      "source": [
        "top.columns"
      ],
      "metadata": {
        "colab": {
          "base_uri": "https://localhost:8080/"
        },
        "id": "e2zsTtqjCDQk",
        "outputId": "b26ecdf4-06a2-4c6d-faa4-1f87288ebe9b"
      },
      "execution_count": 13,
      "outputs": [
        {
          "output_type": "execute_result",
          "data": {
            "text/plain": [
              "Index(['Unnamed: 0', 'Track.Name', 'Artist.Name', 'Genre', 'Beats.Per.Minute',\n",
              "       'Energy', 'Danceability', 'Loudness..dB..', 'Liveness', 'Valence.',\n",
              "       'Length.', 'Acousticness..', 'Speechiness.', 'Popularity',\n",
              "       'kintamasis'],\n",
              "      dtype='object')"
            ]
          },
          "metadata": {},
          "execution_count": 13
        }
      ]
    },
    {
      "cell_type": "code",
      "source": [
        "top.shape"
      ],
      "metadata": {
        "colab": {
          "base_uri": "https://localhost:8080/"
        },
        "id": "DKAStUppCJqz",
        "outputId": "6d53d85b-531f-4e07-ca63-21641b17749a"
      },
      "execution_count": 14,
      "outputs": [
        {
          "output_type": "execute_result",
          "data": {
            "text/plain": [
              "(50, 15)"
            ]
          },
          "metadata": {},
          "execution_count": 14
        }
      ]
    },
    {
      "cell_type": "code",
      "source": [
        "top.sort_values('Track.Name').head()"
      ],
      "metadata": {
        "colab": {
          "base_uri": "https://localhost:8080/",
          "height": 357
        },
        "id": "2gl4mm2FCPTV",
        "outputId": "746ab840-8b75-4b0d-f09c-ed94288bc57a"
      },
      "execution_count": 15,
      "outputs": [
        {
          "output_type": "execute_result",
          "data": {
            "text/plain": [
              "    Unnamed: 0                       Track.Name       Artist.Name      Genre  \\\n",
              "32          33                0.958333333333333            Maluma  reggaeton   \n",
              "31          32                          7 rings     Ariana Grande  dance pop   \n",
              "37          38   Antisocial (with Travis Scott)        Ed Sheeran        pop   \n",
              "3            4  Beautiful People (feat. Khalid)        Ed Sheeran        pop   \n",
              "48          49                    Call You Mine  The Chainsmokers        edm   \n",
              "\n",
              "    Beats.Per.Minute  Energy  Danceability  Loudness..dB..  Liveness  \\\n",
              "32                96      71            78              -5         9   \n",
              "31               140      32            78             -11         9   \n",
              "37               152      82            72              -5        36   \n",
              "3                 93      65            64              -8         8   \n",
              "48               104      70            59              -6        41   \n",
              "\n",
              "    Valence.  Length.  Acousticness..  Speechiness.  Popularity  kintamasis  \n",
              "32        68      176              22            28          89         149  \n",
              "31        33      179              59            33          89         110  \n",
              "37        91      162              13             5          87         154  \n",
              "3         55      198              12            19          86         129  \n",
              "48        50      218              23             3          88         129  "
            ],
            "text/html": [
              "\n",
              "  <div id=\"df-d6238177-bcea-411c-b35f-d0b332181614\">\n",
              "    <div class=\"colab-df-container\">\n",
              "      <div>\n",
              "<style scoped>\n",
              "    .dataframe tbody tr th:only-of-type {\n",
              "        vertical-align: middle;\n",
              "    }\n",
              "\n",
              "    .dataframe tbody tr th {\n",
              "        vertical-align: top;\n",
              "    }\n",
              "\n",
              "    .dataframe thead th {\n",
              "        text-align: right;\n",
              "    }\n",
              "</style>\n",
              "<table border=\"1\" class=\"dataframe\">\n",
              "  <thead>\n",
              "    <tr style=\"text-align: right;\">\n",
              "      <th></th>\n",
              "      <th>Unnamed: 0</th>\n",
              "      <th>Track.Name</th>\n",
              "      <th>Artist.Name</th>\n",
              "      <th>Genre</th>\n",
              "      <th>Beats.Per.Minute</th>\n",
              "      <th>Energy</th>\n",
              "      <th>Danceability</th>\n",
              "      <th>Loudness..dB..</th>\n",
              "      <th>Liveness</th>\n",
              "      <th>Valence.</th>\n",
              "      <th>Length.</th>\n",
              "      <th>Acousticness..</th>\n",
              "      <th>Speechiness.</th>\n",
              "      <th>Popularity</th>\n",
              "      <th>kintamasis</th>\n",
              "    </tr>\n",
              "  </thead>\n",
              "  <tbody>\n",
              "    <tr>\n",
              "      <th>32</th>\n",
              "      <td>33</td>\n",
              "      <td>0.958333333333333</td>\n",
              "      <td>Maluma</td>\n",
              "      <td>reggaeton</td>\n",
              "      <td>96</td>\n",
              "      <td>71</td>\n",
              "      <td>78</td>\n",
              "      <td>-5</td>\n",
              "      <td>9</td>\n",
              "      <td>68</td>\n",
              "      <td>176</td>\n",
              "      <td>22</td>\n",
              "      <td>28</td>\n",
              "      <td>89</td>\n",
              "      <td>149</td>\n",
              "    </tr>\n",
              "    <tr>\n",
              "      <th>31</th>\n",
              "      <td>32</td>\n",
              "      <td>7 rings</td>\n",
              "      <td>Ariana Grande</td>\n",
              "      <td>dance pop</td>\n",
              "      <td>140</td>\n",
              "      <td>32</td>\n",
              "      <td>78</td>\n",
              "      <td>-11</td>\n",
              "      <td>9</td>\n",
              "      <td>33</td>\n",
              "      <td>179</td>\n",
              "      <td>59</td>\n",
              "      <td>33</td>\n",
              "      <td>89</td>\n",
              "      <td>110</td>\n",
              "    </tr>\n",
              "    <tr>\n",
              "      <th>37</th>\n",
              "      <td>38</td>\n",
              "      <td>Antisocial (with Travis Scott)</td>\n",
              "      <td>Ed Sheeran</td>\n",
              "      <td>pop</td>\n",
              "      <td>152</td>\n",
              "      <td>82</td>\n",
              "      <td>72</td>\n",
              "      <td>-5</td>\n",
              "      <td>36</td>\n",
              "      <td>91</td>\n",
              "      <td>162</td>\n",
              "      <td>13</td>\n",
              "      <td>5</td>\n",
              "      <td>87</td>\n",
              "      <td>154</td>\n",
              "    </tr>\n",
              "    <tr>\n",
              "      <th>3</th>\n",
              "      <td>4</td>\n",
              "      <td>Beautiful People (feat. Khalid)</td>\n",
              "      <td>Ed Sheeran</td>\n",
              "      <td>pop</td>\n",
              "      <td>93</td>\n",
              "      <td>65</td>\n",
              "      <td>64</td>\n",
              "      <td>-8</td>\n",
              "      <td>8</td>\n",
              "      <td>55</td>\n",
              "      <td>198</td>\n",
              "      <td>12</td>\n",
              "      <td>19</td>\n",
              "      <td>86</td>\n",
              "      <td>129</td>\n",
              "    </tr>\n",
              "    <tr>\n",
              "      <th>48</th>\n",
              "      <td>49</td>\n",
              "      <td>Call You Mine</td>\n",
              "      <td>The Chainsmokers</td>\n",
              "      <td>edm</td>\n",
              "      <td>104</td>\n",
              "      <td>70</td>\n",
              "      <td>59</td>\n",
              "      <td>-6</td>\n",
              "      <td>41</td>\n",
              "      <td>50</td>\n",
              "      <td>218</td>\n",
              "      <td>23</td>\n",
              "      <td>3</td>\n",
              "      <td>88</td>\n",
              "      <td>129</td>\n",
              "    </tr>\n",
              "  </tbody>\n",
              "</table>\n",
              "</div>\n",
              "      <button class=\"colab-df-convert\" onclick=\"convertToInteractive('df-d6238177-bcea-411c-b35f-d0b332181614')\"\n",
              "              title=\"Convert this dataframe to an interactive table.\"\n",
              "              style=\"display:none;\">\n",
              "        \n",
              "  <svg xmlns=\"http://www.w3.org/2000/svg\" height=\"24px\"viewBox=\"0 0 24 24\"\n",
              "       width=\"24px\">\n",
              "    <path d=\"M0 0h24v24H0V0z\" fill=\"none\"/>\n",
              "    <path d=\"M18.56 5.44l.94 2.06.94-2.06 2.06-.94-2.06-.94-.94-2.06-.94 2.06-2.06.94zm-11 1L8.5 8.5l.94-2.06 2.06-.94-2.06-.94L8.5 2.5l-.94 2.06-2.06.94zm10 10l.94 2.06.94-2.06 2.06-.94-2.06-.94-.94-2.06-.94 2.06-2.06.94z\"/><path d=\"M17.41 7.96l-1.37-1.37c-.4-.4-.92-.59-1.43-.59-.52 0-1.04.2-1.43.59L10.3 9.45l-7.72 7.72c-.78.78-.78 2.05 0 2.83L4 21.41c.39.39.9.59 1.41.59.51 0 1.02-.2 1.41-.59l7.78-7.78 2.81-2.81c.8-.78.8-2.07 0-2.86zM5.41 20L4 18.59l7.72-7.72 1.47 1.35L5.41 20z\"/>\n",
              "  </svg>\n",
              "      </button>\n",
              "      \n",
              "  <style>\n",
              "    .colab-df-container {\n",
              "      display:flex;\n",
              "      flex-wrap:wrap;\n",
              "      gap: 12px;\n",
              "    }\n",
              "\n",
              "    .colab-df-convert {\n",
              "      background-color: #E8F0FE;\n",
              "      border: none;\n",
              "      border-radius: 50%;\n",
              "      cursor: pointer;\n",
              "      display: none;\n",
              "      fill: #1967D2;\n",
              "      height: 32px;\n",
              "      padding: 0 0 0 0;\n",
              "      width: 32px;\n",
              "    }\n",
              "\n",
              "    .colab-df-convert:hover {\n",
              "      background-color: #E2EBFA;\n",
              "      box-shadow: 0px 1px 2px rgba(60, 64, 67, 0.3), 0px 1px 3px 1px rgba(60, 64, 67, 0.15);\n",
              "      fill: #174EA6;\n",
              "    }\n",
              "\n",
              "    [theme=dark] .colab-df-convert {\n",
              "      background-color: #3B4455;\n",
              "      fill: #D2E3FC;\n",
              "    }\n",
              "\n",
              "    [theme=dark] .colab-df-convert:hover {\n",
              "      background-color: #434B5C;\n",
              "      box-shadow: 0px 1px 3px 1px rgba(0, 0, 0, 0.15);\n",
              "      filter: drop-shadow(0px 1px 2px rgba(0, 0, 0, 0.3));\n",
              "      fill: #FFFFFF;\n",
              "    }\n",
              "  </style>\n",
              "\n",
              "      <script>\n",
              "        const buttonEl =\n",
              "          document.querySelector('#df-d6238177-bcea-411c-b35f-d0b332181614 button.colab-df-convert');\n",
              "        buttonEl.style.display =\n",
              "          google.colab.kernel.accessAllowed ? 'block' : 'none';\n",
              "\n",
              "        async function convertToInteractive(key) {\n",
              "          const element = document.querySelector('#df-d6238177-bcea-411c-b35f-d0b332181614');\n",
              "          const dataTable =\n",
              "            await google.colab.kernel.invokeFunction('convertToInteractive',\n",
              "                                                     [key], {});\n",
              "          if (!dataTable) return;\n",
              "\n",
              "          const docLinkHtml = 'Like what you see? Visit the ' +\n",
              "            '<a target=\"_blank\" href=https://colab.research.google.com/notebooks/data_table.ipynb>data table notebook</a>'\n",
              "            + ' to learn more about interactive tables.';\n",
              "          element.innerHTML = '';\n",
              "          dataTable['output_type'] = 'display_data';\n",
              "          await google.colab.output.renderOutput(dataTable, element);\n",
              "          const docLink = document.createElement('div');\n",
              "          docLink.innerHTML = docLinkHtml;\n",
              "          element.appendChild(docLink);\n",
              "        }\n",
              "      </script>\n",
              "    </div>\n",
              "  </div>\n",
              "  "
            ]
          },
          "metadata": {},
          "execution_count": 15
        }
      ]
    },
    {
      "cell_type": "code",
      "source": [
        "top.isnull().head()"
      ],
      "metadata": {
        "colab": {
          "base_uri": "https://localhost:8080/",
          "height": 287
        },
        "id": "scemGHANCfzA",
        "outputId": "21307a03-e57e-411d-c470-1be3245d0e58"
      },
      "execution_count": 16,
      "outputs": [
        {
          "output_type": "execute_result",
          "data": {
            "text/plain": [
              "   Unnamed: 0  Track.Name  Artist.Name  Genre  Beats.Per.Minute  Energy  \\\n",
              "0       False       False        False  False             False   False   \n",
              "1       False       False        False  False             False   False   \n",
              "2       False       False        False  False             False   False   \n",
              "3       False       False        False  False             False   False   \n",
              "4       False       False        False  False             False   False   \n",
              "\n",
              "   Danceability  Loudness..dB..  Liveness  Valence.  Length.  Acousticness..  \\\n",
              "0         False           False     False     False    False           False   \n",
              "1         False           False     False     False    False           False   \n",
              "2         False           False     False     False    False           False   \n",
              "3         False           False     False     False    False           False   \n",
              "4         False           False     False     False    False           False   \n",
              "\n",
              "   Speechiness.  Popularity  kintamasis  \n",
              "0         False       False       False  \n",
              "1         False       False       False  \n",
              "2         False       False       False  \n",
              "3         False       False       False  \n",
              "4         False       False       False  "
            ],
            "text/html": [
              "\n",
              "  <div id=\"df-8b568797-6a37-4a8a-91cb-f5ecee4932ab\">\n",
              "    <div class=\"colab-df-container\">\n",
              "      <div>\n",
              "<style scoped>\n",
              "    .dataframe tbody tr th:only-of-type {\n",
              "        vertical-align: middle;\n",
              "    }\n",
              "\n",
              "    .dataframe tbody tr th {\n",
              "        vertical-align: top;\n",
              "    }\n",
              "\n",
              "    .dataframe thead th {\n",
              "        text-align: right;\n",
              "    }\n",
              "</style>\n",
              "<table border=\"1\" class=\"dataframe\">\n",
              "  <thead>\n",
              "    <tr style=\"text-align: right;\">\n",
              "      <th></th>\n",
              "      <th>Unnamed: 0</th>\n",
              "      <th>Track.Name</th>\n",
              "      <th>Artist.Name</th>\n",
              "      <th>Genre</th>\n",
              "      <th>Beats.Per.Minute</th>\n",
              "      <th>Energy</th>\n",
              "      <th>Danceability</th>\n",
              "      <th>Loudness..dB..</th>\n",
              "      <th>Liveness</th>\n",
              "      <th>Valence.</th>\n",
              "      <th>Length.</th>\n",
              "      <th>Acousticness..</th>\n",
              "      <th>Speechiness.</th>\n",
              "      <th>Popularity</th>\n",
              "      <th>kintamasis</th>\n",
              "    </tr>\n",
              "  </thead>\n",
              "  <tbody>\n",
              "    <tr>\n",
              "      <th>0</th>\n",
              "      <td>False</td>\n",
              "      <td>False</td>\n",
              "      <td>False</td>\n",
              "      <td>False</td>\n",
              "      <td>False</td>\n",
              "      <td>False</td>\n",
              "      <td>False</td>\n",
              "      <td>False</td>\n",
              "      <td>False</td>\n",
              "      <td>False</td>\n",
              "      <td>False</td>\n",
              "      <td>False</td>\n",
              "      <td>False</td>\n",
              "      <td>False</td>\n",
              "      <td>False</td>\n",
              "    </tr>\n",
              "    <tr>\n",
              "      <th>1</th>\n",
              "      <td>False</td>\n",
              "      <td>False</td>\n",
              "      <td>False</td>\n",
              "      <td>False</td>\n",
              "      <td>False</td>\n",
              "      <td>False</td>\n",
              "      <td>False</td>\n",
              "      <td>False</td>\n",
              "      <td>False</td>\n",
              "      <td>False</td>\n",
              "      <td>False</td>\n",
              "      <td>False</td>\n",
              "      <td>False</td>\n",
              "      <td>False</td>\n",
              "      <td>False</td>\n",
              "    </tr>\n",
              "    <tr>\n",
              "      <th>2</th>\n",
              "      <td>False</td>\n",
              "      <td>False</td>\n",
              "      <td>False</td>\n",
              "      <td>False</td>\n",
              "      <td>False</td>\n",
              "      <td>False</td>\n",
              "      <td>False</td>\n",
              "      <td>False</td>\n",
              "      <td>False</td>\n",
              "      <td>False</td>\n",
              "      <td>False</td>\n",
              "      <td>False</td>\n",
              "      <td>False</td>\n",
              "      <td>False</td>\n",
              "      <td>False</td>\n",
              "    </tr>\n",
              "    <tr>\n",
              "      <th>3</th>\n",
              "      <td>False</td>\n",
              "      <td>False</td>\n",
              "      <td>False</td>\n",
              "      <td>False</td>\n",
              "      <td>False</td>\n",
              "      <td>False</td>\n",
              "      <td>False</td>\n",
              "      <td>False</td>\n",
              "      <td>False</td>\n",
              "      <td>False</td>\n",
              "      <td>False</td>\n",
              "      <td>False</td>\n",
              "      <td>False</td>\n",
              "      <td>False</td>\n",
              "      <td>False</td>\n",
              "    </tr>\n",
              "    <tr>\n",
              "      <th>4</th>\n",
              "      <td>False</td>\n",
              "      <td>False</td>\n",
              "      <td>False</td>\n",
              "      <td>False</td>\n",
              "      <td>False</td>\n",
              "      <td>False</td>\n",
              "      <td>False</td>\n",
              "      <td>False</td>\n",
              "      <td>False</td>\n",
              "      <td>False</td>\n",
              "      <td>False</td>\n",
              "      <td>False</td>\n",
              "      <td>False</td>\n",
              "      <td>False</td>\n",
              "      <td>False</td>\n",
              "    </tr>\n",
              "  </tbody>\n",
              "</table>\n",
              "</div>\n",
              "      <button class=\"colab-df-convert\" onclick=\"convertToInteractive('df-8b568797-6a37-4a8a-91cb-f5ecee4932ab')\"\n",
              "              title=\"Convert this dataframe to an interactive table.\"\n",
              "              style=\"display:none;\">\n",
              "        \n",
              "  <svg xmlns=\"http://www.w3.org/2000/svg\" height=\"24px\"viewBox=\"0 0 24 24\"\n",
              "       width=\"24px\">\n",
              "    <path d=\"M0 0h24v24H0V0z\" fill=\"none\"/>\n",
              "    <path d=\"M18.56 5.44l.94 2.06.94-2.06 2.06-.94-2.06-.94-.94-2.06-.94 2.06-2.06.94zm-11 1L8.5 8.5l.94-2.06 2.06-.94-2.06-.94L8.5 2.5l-.94 2.06-2.06.94zm10 10l.94 2.06.94-2.06 2.06-.94-2.06-.94-.94-2.06-.94 2.06-2.06.94z\"/><path d=\"M17.41 7.96l-1.37-1.37c-.4-.4-.92-.59-1.43-.59-.52 0-1.04.2-1.43.59L10.3 9.45l-7.72 7.72c-.78.78-.78 2.05 0 2.83L4 21.41c.39.39.9.59 1.41.59.51 0 1.02-.2 1.41-.59l7.78-7.78 2.81-2.81c.8-.78.8-2.07 0-2.86zM5.41 20L4 18.59l7.72-7.72 1.47 1.35L5.41 20z\"/>\n",
              "  </svg>\n",
              "      </button>\n",
              "      \n",
              "  <style>\n",
              "    .colab-df-container {\n",
              "      display:flex;\n",
              "      flex-wrap:wrap;\n",
              "      gap: 12px;\n",
              "    }\n",
              "\n",
              "    .colab-df-convert {\n",
              "      background-color: #E8F0FE;\n",
              "      border: none;\n",
              "      border-radius: 50%;\n",
              "      cursor: pointer;\n",
              "      display: none;\n",
              "      fill: #1967D2;\n",
              "      height: 32px;\n",
              "      padding: 0 0 0 0;\n",
              "      width: 32px;\n",
              "    }\n",
              "\n",
              "    .colab-df-convert:hover {\n",
              "      background-color: #E2EBFA;\n",
              "      box-shadow: 0px 1px 2px rgba(60, 64, 67, 0.3), 0px 1px 3px 1px rgba(60, 64, 67, 0.15);\n",
              "      fill: #174EA6;\n",
              "    }\n",
              "\n",
              "    [theme=dark] .colab-df-convert {\n",
              "      background-color: #3B4455;\n",
              "      fill: #D2E3FC;\n",
              "    }\n",
              "\n",
              "    [theme=dark] .colab-df-convert:hover {\n",
              "      background-color: #434B5C;\n",
              "      box-shadow: 0px 1px 3px 1px rgba(0, 0, 0, 0.15);\n",
              "      filter: drop-shadow(0px 1px 2px rgba(0, 0, 0, 0.3));\n",
              "      fill: #FFFFFF;\n",
              "    }\n",
              "  </style>\n",
              "\n",
              "      <script>\n",
              "        const buttonEl =\n",
              "          document.querySelector('#df-8b568797-6a37-4a8a-91cb-f5ecee4932ab button.colab-df-convert');\n",
              "        buttonEl.style.display =\n",
              "          google.colab.kernel.accessAllowed ? 'block' : 'none';\n",
              "\n",
              "        async function convertToInteractive(key) {\n",
              "          const element = document.querySelector('#df-8b568797-6a37-4a8a-91cb-f5ecee4932ab');\n",
              "          const dataTable =\n",
              "            await google.colab.kernel.invokeFunction('convertToInteractive',\n",
              "                                                     [key], {});\n",
              "          if (!dataTable) return;\n",
              "\n",
              "          const docLinkHtml = 'Like what you see? Visit the ' +\n",
              "            '<a target=\"_blank\" href=https://colab.research.google.com/notebooks/data_table.ipynb>data table notebook</a>'\n",
              "            + ' to learn more about interactive tables.';\n",
              "          element.innerHTML = '';\n",
              "          dataTable['output_type'] = 'display_data';\n",
              "          await google.colab.output.renderOutput(dataTable, element);\n",
              "          const docLink = document.createElement('div');\n",
              "          docLink.innerHTML = docLinkHtml;\n",
              "          element.appendChild(docLink);\n",
              "        }\n",
              "      </script>\n",
              "    </div>\n",
              "  </div>\n",
              "  "
            ]
          },
          "metadata": {},
          "execution_count": 16
        }
      ]
    },
    {
      "cell_type": "code",
      "source": [
        "top['Acousticness..'].isnull().head()"
      ],
      "metadata": {
        "colab": {
          "base_uri": "https://localhost:8080/"
        },
        "id": "l3Wtvx-QCxTx",
        "outputId": "c8c7e9dc-48b0-49c9-8473-05fa93f3b439"
      },
      "execution_count": 17,
      "outputs": [
        {
          "output_type": "execute_result",
          "data": {
            "text/plain": [
              "0    False\n",
              "1    False\n",
              "2    False\n",
              "3    False\n",
              "4    False\n",
              "Name: Acousticness.., dtype: bool"
            ]
          },
          "metadata": {},
          "execution_count": 17
        }
      ]
    },
    {
      "cell_type": "code",
      "source": [
        "data=pd.read_csv()\n",
        "data.to_csv(''res.csv'',index=False)"
      ],
      "metadata": {
        "id": "EAU7zY_RC-r-"
      },
      "execution_count": null,
      "outputs": []
    },
    {
      "cell_type": "code",
      "source": [
        "data.to_excel('duomenys.xls', sheet_name='example_1') # isaugoti i excel data ir tada read excel"
      ],
      "metadata": {
        "id": "neceytmFD_5K"
      },
      "execution_count": null,
      "outputs": []
    },
    {
      "cell_type": "code",
      "source": [],
      "metadata": {
        "id": "6QYdW6XgETKo"
      },
      "execution_count": null,
      "outputs": []
    }
  ]
}